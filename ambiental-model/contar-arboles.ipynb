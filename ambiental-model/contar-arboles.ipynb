{
 "cells": [
  {
   "cell_type": "code",
   "execution_count": 1,
   "metadata": {},
   "outputs": [
    {
     "name": "stdout",
     "output_type": "stream",
     "text": [
      "                                        nombre  CantidadArboles\n",
      "0                                     Aranjuez             8057\n",
      "1                                        Belén            26396\n",
      "2                                 Buenos Aires            16287\n",
      "3                                     Castilla            17217\n",
      "4                   Corregimiento de Altavista             3691\n",
      "5        Corregimiento de San Antonio de Prado            10824\n",
      "6               Corregimiento de San Cristóbal            18007\n",
      "7   Corregimiento de San Sebastián de Palmitas              509\n",
      "8                 Corregimiento de Santa Elena             5622\n",
      "9                              Doce de Octubre             9992\n",
      "10                                  El Poblado            42217\n",
      "11                                    Guayabal            14744\n",
      "12                                  La América            10186\n",
      "13                               La Candelaria            26127\n",
      "14                            Laureles Estadio            21070\n",
      "15                                    Manrique             3015\n",
      "16                                     Popular             2408\n",
      "17                                     Robledo            27166\n",
      "18                                  San Javier             9176\n",
      "19                                  Santa Cruz             1870\n",
      "20                               Villa Hermosa            11490\n"
     ]
    }
   ],
   "source": [
    "import geopandas as gpd\n",
    "\n",
    "# 1. Cargar los shapefiles\n",
    "Arboles = gpd.read_file('arbol_urbano.shp')\n",
    "Comunas = gpd.read_file('comunas_y_corregimientos.shp')\n",
    "\n",
    "# 2. Asegurarse de que ambos archivos tienen el mismo CRS\n",
    "if Arboles.crs != Comunas.crs:\n",
    "    Arboles = Arboles.to_crs(Comunas.crs)\n",
    "\n",
    "# 3. Realizar el spatial join para contar los árboles en cada comuna\n",
    "ArbolesPorComuna = gpd.sjoin(Arboles, Comunas, how='inner', predicate='within')\n",
    "\n",
    "# 4. Contar los árboles por comuna\n",
    "ConteoArboles = ArbolesPorComuna.groupby('nombre').size().reset_index(name='CantidadArboles')\n",
    "\n",
    "# 5. Mostrar el resultado\n",
    "print(ConteoArboles)"
   ]
  }
 ],
 "metadata": {
  "kernelspec": {
   "display_name": "Python 3",
   "language": "python",
   "name": "python3"
  },
  "language_info": {
   "codemirror_mode": {
    "name": "ipython",
    "version": 3
   },
   "file_extension": ".py",
   "mimetype": "text/x-python",
   "name": "python",
   "nbconvert_exporter": "python",
   "pygments_lexer": "ipython3",
   "version": "3.12.3"
  }
 },
 "nbformat": 4,
 "nbformat_minor": 2
}
